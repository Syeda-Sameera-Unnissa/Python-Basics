{
  "nbformat": 4,
  "nbformat_minor": 0,
  "metadata": {
    "colab": {
      "provenance": []
    },
    "kernelspec": {
      "name": "python3",
      "display_name": "Python 3"
    },
    "language_info": {
      "name": "python"
    }
  },
  "cells": [
    {
      "cell_type": "markdown",
      "source": [
        "## **Python Basics Questions**"
      ],
      "metadata": {
        "id": "6Xo7yv5adFWy"
      }
    },
    {
      "cell_type": "markdown",
      "source": [
        "1. What is Python and why is it popular?\n",
        "\n",
        "---\n",
        "\n",
        "\n",
        "Python is a programming language which has extensive use in Web Development, Data Science, Machine Learning, Artificial Intelligence, Web Scraping, Task Automation etc.\n",
        "\n",
        "Python is a popular language because:\n",
        "  a. Versatile: Python can be used for different tasks\n",
        "  b. Beginner Friendly: Python’s syntax is simple & easy to learn\n",
        "  c. Open Source: Python is free to use\n",
        "  d. Extensive Libraries: Extensive libraries make it easier to use for Artificial Intelligence, Data Science, Machine Learning\n",
        "  e. Portable: Python runs on various operating systems\n"
      ],
      "metadata": {
        "id": "NWt0iU2HYzbs"
      }
    },
    {
      "cell_type": "markdown",
      "source": [
        "2. What is an interpreter in Python?\n",
        "\n",
        "---\n",
        "\n",
        "\n",
        "   A python interpreter is a computer program that converts each high-level program statement into machine code. An interpreter translates the command that you write out into code that the computer can understand. A python interpreter is a program that reads the source code, breaks it into tokens and checks the syntax. If the syntax is correct, it generates byte code, which is a lower level representation of the code. The Python Virtual Machine (PVM) then executes the byte code to perform the specified operations and generate the output.\n"
      ],
      "metadata": {
        "id": "AMPD-p4RayPH"
      }
    },
    {
      "cell_type": "markdown",
      "source": [
        "3. What are pre-defined keywords in Python?\n",
        "\n",
        "---\n",
        "\n",
        "\n",
        "Keywords are reserved words with special meaning. These words cannot be\n",
        "used as Variable names, function names or any identifiers.\n",
        "  a. Control Flow: if, else, elif, for, while, break, continue, pass\n",
        "  b. Data Types: int, float, str, bool, list, tuple, dict, set\n",
        "  c. Function Definitions: def, lambda, return\n",
        "  d. Object-Oriented Programming: class, self, super, isinstance\n",
        "  e. Error Handling: try, except, finally, raise\n",
        "  f. Other: True, False, None, and, or, not, in, is, as, with, import, from, global, nonlocal\n",
        "\n",
        "  You can find a complete list of Python keywords by executing the following code:\n",
        "  import keyword\n",
        "  print(keyword.kwlist)"
      ],
      "metadata": {
        "id": "RmmcEvv5a7Lp"
      }
    },
    {
      "cell_type": "markdown",
      "source": [
        "4. Can Keywords be used as variable names?\n",
        "\n",
        "---\n",
        "\n",
        "\n",
        "Keywords cannot be used as variable names, function names or any identifiers.\n"
      ],
      "metadata": {
        "id": "6-ZqPD2YcBaA"
      }
    },
    {
      "cell_type": "markdown",
      "source": [
        "5. What is mutability in Python?\n",
        "\n",
        "---\n",
        "\n",
        "\n",
        "The ability of an object to be changed after it is created is called mutability.\n",
        "Ex: lists, dictionaries, sets\n"
      ],
      "metadata": {
        "id": "K4H7mOTCcFBO"
      }
    },
    {
      "cell_type": "markdown",
      "source": [
        "6. Why are lists mutable, but tuples are immutable?\n",
        "\n",
        "---\n",
        "\n",
        "\n",
        "Tuples are immutable because the contents cannot be changed after creation, this allows tuples to be used for situations where data needs to be fixed, and lists for situations where data needs to be changed dynamically.\n"
      ],
      "metadata": {
        "id": "jIu5fAQJcIqW"
      }
    },
    {
      "cell_type": "markdown",
      "source": [
        "7. What is the difference between “==” and “is” operators in Python?\n",
        "\n",
        "---\n",
        "\n",
        "\n",
        "==:  It is an equality operator that compares the values of two objects. It returns True if the values are equal otherwise it returns false.\n",
        "\n",
        "is: It is an identity operator that compares the memory addresses of two objects. It returns True if both the variable refers to the exact same object in memory otherwise it returns false.\n"
      ],
      "metadata": {
        "id": "PrgPHJKBcIZh"
      }
    },
    {
      "cell_type": "markdown",
      "source": [
        "8. What are logical operators in Python?\n",
        "\n",
        "---\n",
        "\n",
        "Logical operators in Python are used to combine conditional statements and produce a boolean result (True or False).\n",
        "\n",
        "and: Returns True if both operands are True.\n",
        "\n",
        "or: Returns True if at least one operand is True.\n",
        "\n",
        "not: Reverses the result, returns False if the result is True and vice versa."
      ],
      "metadata": {
        "id": "qwETLRL5cIMr"
      }
    },
    {
      "cell_type": "markdown",
      "source": [
        "9. What is type casting in Python?\n",
        "\n",
        "---\n",
        "Type casting, also known as type conversion, in Python is the process of converting a value from one data type to another.\n"
      ],
      "metadata": {
        "id": "iecU5pIWcH_D"
      }
    },
    {
      "cell_type": "markdown",
      "source": [
        "10. What is the difference between implicit and explicit type casting?\n",
        "\n",
        "---\n",
        "\n",
        "Implicit Type Casting:\n",
        "Python automatically performs this conversion when it's safe to do so. For example, when you add an integer and a float, the integer is implicitly converted to a float before the addition.\n",
        "\n",
        "Explicit Type Casting:\n",
        "You explicitly instruct Python to convert a value to a different data type using predefined functions like int(), float(), str(), etc.\n",
        "\n",
        "Example:\n",
        "\n",
        "Explicit type casting\n",
        "x = 10  # integer\n",
        "y = float(x)  # convert x to float\n",
        "print(y)  # Output: 10.0\n",
        "\n",
        "Implicit type casting\n",
        "a = 5  # integer\n",
        "b = 2.5  # float\n",
        "c = a + b  # c will be a float (7.5)"
      ],
      "metadata": {
        "id": "pVErXIMocHyJ"
      }
    },
    {
      "cell_type": "markdown",
      "source": [
        "11. What is the purpose of conditional statements in Python?\n",
        "\n",
        "---\n",
        "In Python, conditional statements are used to control the flow of a program by executing specific blocks of code only when certain conditions are met, essentially allowing the program to make decisions based on input data and perform different actions depending on whether a condition is true or false; this is achieved through keywords like \"if\", \"elif\", and \"else\" which evaluate conditions and execute the corresponding code block\n"
      ],
      "metadata": {
        "id": "qZBsWbngcHmW"
      }
    },
    {
      "cell_type": "markdown",
      "source": [
        "12. How does the elif statement work?\n",
        "\n",
        "---\n",
        "\n",
        "An \"elif\" statement in programming languages like Python stands for \"else if\" and is used to check multiple conditions sequentially; if the first \"if\" condition is false, it moves on to the next \"elif\" condition to see if that one is true, essentially allowing you to execute different code blocks depending on which condition is met within a series of checks.\n",
        "\n",
        "Syntax: if condition1: # Code if condition1 is true\n",
        "\n",
        "elif condition2: # Code if condition1 is false but condition2 is true\n",
        "\n",
        "elif condition3: # Code if previous conditions are false but condition3 is true\n",
        "\n",
        "else: # Code if none of the previous conditions are true\n",
        "\n",
        "How it works:\n",
        "\n",
        "The first \"if\" condition is evaluated.\n",
        "\n",
        "If the \"if\" condition is true, the code block associated with it is executed and the program moves on.\n",
        "\n",
        "If the \"if\" condition is false, the program checks the first \"elif\" condition.\n",
        "\n",
        "If the \"elif\" condition is true, the code block associated with it is executed and the program moves on.\n",
        "\n",
        "This process continues through all \"elif\" statements until a true condition is found.\n",
        "\n",
        "If no \"elif\" condition is true, the \"else\" block (if present) is executed."
      ],
      "metadata": {
        "id": "fzHuE5nWcHXK"
      }
    },
    {
      "cell_type": "markdown",
      "source": [
        "13. What is the difference between for and while loops?\n",
        "\n",
        "---\n",
        "For loop\n",
        "\n",
        "Used when you know the number of iterations in advance. A for loop is best for repeating a block of code for each item in a list or sequence. For example, you can use a for loop to print out all the elements of a vector.\n",
        "\n",
        "While loop\n",
        "\n",
        "Used when you don't know the number of iterations in advance. A while loop is best for repeating a block of code until a condition is met. For example, you can use a while loop to ask a user for a number between 1 and 10.\n"
      ],
      "metadata": {
        "id": "9wmi235hcG-_"
      }
    },
    {
      "cell_type": "markdown",
      "source": [
        "14. Describe a scenario where a while loop is more suitable than a for loop.\n",
        "\n",
        "---\n",
        "\n",
        "A while loop is more suitable than a for loop when you don't know in advance how many times the loop needs to run, and instead, the loop should continue iterating until a specific condition is met, which might change dynamically during the loop execution.\n",
        "\n",
        "Example scenario:\n",
        "User input validation: When you want to repeatedly ask a user for input until they provide valid data (like a number within a specific range). You can use a while loop to keep asking for input until the condition of \"valid input\" is met.\n",
        "\n",
        "while True:\n",
        "\n",
        "    user_input = int(input(\"Enter a number between 1 and 10: \"))\n",
        "\n",
        "    if 1 <= user_input <= 10:\n",
        "\n",
        "        break  # Exit the loop if input is valid\n",
        "\n",
        "    else:\n",
        "\n",
        "        print(\"Invalid input. Please try again.\")"
      ],
      "metadata": {
        "id": "wCO1x-fjcGX_"
      }
    },
    {
      "cell_type": "markdown",
      "source": [
        "## **Practical Questions**"
      ],
      "metadata": {
        "id": "GU8Gi8jNdXVF"
      }
    },
    {
      "cell_type": "code",
      "execution_count": null,
      "metadata": {
        "id": "Ixv8irzCYwKa",
        "colab": {
          "base_uri": "https://localhost:8080/"
        },
        "outputId": "4821da6e-640b-41d1-914f-b891ae4d5990"
      },
      "outputs": [
        {
          "output_type": "stream",
          "name": "stdout",
          "text": [
            "Hello, World!\n"
          ]
        }
      ],
      "source": [
        "# 1. Write a Python program to print \"Hello, World!\"\n",
        "print(\"Hello, World!\")"
      ]
    },
    {
      "cell_type": "code",
      "source": [
        "# 2. Write a Python program that displays your name and age\n",
        "print (\"Your name is: Sameera\")\n",
        "print (\"Your age is \" + \"20\")"
      ],
      "metadata": {
        "id": "fgSAHW4RgI41",
        "colab": {
          "base_uri": "https://localhost:8080/"
        },
        "outputId": "b1eb0b10-2c34-44a9-9c62-2a388f79eacb"
      },
      "execution_count": null,
      "outputs": [
        {
          "output_type": "stream",
          "name": "stdout",
          "text": [
            "Your name is: Sameera\n",
            "Your age is 20\n"
          ]
        }
      ]
    },
    {
      "cell_type": "code",
      "source": [
        "# 3. Write a code to print all the predefined keywords in Python using the Keyword library\n",
        "import keyword\n",
        "print(keyword.kwlist)"
      ],
      "metadata": {
        "colab": {
          "base_uri": "https://localhost:8080/"
        },
        "id": "kcr9tAjCgu4k",
        "outputId": "aebc6708-47a8-4912-b509-9518d27bf2aa"
      },
      "execution_count": null,
      "outputs": [
        {
          "output_type": "stream",
          "name": "stdout",
          "text": [
            "['False', 'None', 'True', 'and', 'as', 'assert', 'async', 'await', 'break', 'class', 'continue', 'def', 'del', 'elif', 'else', 'except', 'finally', 'for', 'from', 'global', 'if', 'import', 'in', 'is', 'lambda', 'nonlocal', 'not', 'or', 'pass', 'raise', 'return', 'try', 'while', 'with', 'yield']\n"
          ]
        }
      ]
    },
    {
      "cell_type": "code",
      "source": [
        "# 4. Write a program to check if the given word is a Python keyword\n",
        "import keyword\n",
        "\n",
        "def is_keyword(word):\n",
        "  return keyword.iskeyword(word)\n",
        "\n",
        "word = input(\"Enter a word: \")\n",
        "\n",
        "if is_keyword(word):\n",
        "  print(f\"{word} is a Python keyword.\")\n",
        "else:\n",
        "  print(f\"{word} is not a Python keyword.\")"
      ],
      "metadata": {
        "colab": {
          "base_uri": "https://localhost:8080/"
        },
        "id": "e2Q0HNq7hB-a",
        "outputId": "7cb1dca0-6bfe-4e4a-d8a0-2b68ac1cce11"
      },
      "execution_count": null,
      "outputs": [
        {
          "output_type": "stream",
          "name": "stdout",
          "text": [
            "Enter a word: def\n",
            "def is a Python keyword.\n"
          ]
        }
      ]
    },
    {
      "cell_type": "code",
      "source": [
        "# 5. Create a list and tuple in Python, and demonstrate how attempting to change an element works differently for each.\n",
        "my_list= [1, 2, 3, \"sam\"]\n",
        "my_tuple= (4, 5, 6, \"syed\")\n",
        "\n",
        "# Trying to change an element in the list, modifies the list\n",
        "print(\"Original list:\", my_list)\n",
        "my_list[3] = \"Sameera\"  # This works, modifying the list\n",
        "print(\"Modified list:\", my_list)\n",
        "\n",
        "# Trying to change an element in the tuple (will cause an error)\n",
        "print(\"Original tuple:\", my_tuple)\n",
        "try:\n",
        "    my_tuple[3] = \"Syeda\"  # This will raise a TypeError\n",
        "except TypeError as e:\n",
        "    print(\"Error:\", e)"
      ],
      "metadata": {
        "colab": {
          "base_uri": "https://localhost:8080/"
        },
        "id": "iZ1rdvxkhhxM",
        "outputId": "df939d55-6571-4b10-d71d-0c6ab9fc7898"
      },
      "execution_count": null,
      "outputs": [
        {
          "output_type": "stream",
          "name": "stdout",
          "text": [
            "Original list: [1, 2, 3, 'sam']\n",
            "Modified list: [1, 2, 3, 'Sameera']\n",
            "Original tuple: (4, 5, 6, 'syed')\n",
            "Error: 'tuple' object does not support item assignment\n"
          ]
        }
      ]
    },
    {
      "cell_type": "code",
      "source": [
        "# 6. Write a function to demonstrate the behaviour of mutable and immutable arguments.\n",
        "\n",
        "def modify_arguments(x, y):\n",
        "    x += 10\n",
        "    y.append(4)\n",
        "\n",
        "a = 5\n",
        "b = [1, 2, 3]\n",
        "\n",
        "print(\"Before function call:\", a, b)\n",
        "\n",
        "modify_arguments(a, b)\n",
        "\n",
        "print(\"After function call:\", a, b)"
      ],
      "metadata": {
        "colab": {
          "base_uri": "https://localhost:8080/"
        },
        "id": "kN5ItmXriFd2",
        "outputId": "22011f3c-f76e-42b3-a2ec-9cb7efbf5df2"
      },
      "execution_count": null,
      "outputs": [
        {
          "output_type": "stream",
          "name": "stdout",
          "text": [
            "Before function call: 5 [1, 2, 3]\n",
            "After function call: 5 [1, 2, 3, 4]\n"
          ]
        }
      ]
    },
    {
      "cell_type": "code",
      "source": [
        "# 7. Write a function to demonstrate the behaviour of mutable and immutable arguments.\n",
        "\n",
        "def modify_arguments(x, y):\n",
        "    x += 10\n",
        "    y.append(4)\n",
        "\n",
        "a = 5\n",
        "b = [1, 2, 3]\n",
        "\n",
        "print(\"Before function call:\", a, b)\n",
        "\n",
        "modify_arguments(a, b)\n",
        "\n",
        "print(\"After function call:\", a, b)"
      ],
      "metadata": {
        "colab": {
          "base_uri": "https://localhost:8080/"
        },
        "id": "GZmLjZzqjDJh",
        "outputId": "a0c9ae80-5d78-453b-d4c5-269395c63dea"
      },
      "execution_count": null,
      "outputs": [
        {
          "output_type": "stream",
          "name": "stdout",
          "text": [
            "Before function call: 5 [1, 2, 3]\n",
            "After function call: 5 [1, 2, 3, 4]\n"
          ]
        }
      ]
    },
    {
      "cell_type": "code",
      "source": [
        "#8. Write a program to demonstrate the use of logical operators.\n",
        "\n",
        "# Logical AND\n",
        "x = 5\n",
        "y = 10\n",
        "\n",
        "if x > 0 and y > 0:\n",
        "    print(\"Both x and y are positive.\")\n",
        "\n",
        "# Logical OR\n",
        "x = -5\n",
        "y = 10\n",
        "\n",
        "if x > 0 or y > 0:\n",
        "    print(\"At least one of x or y is positive.\")\n",
        "\n",
        "# Logical NOT\n",
        "x = 5\n",
        "\n",
        "if not x == 0:\n",
        "    print(\"x is not zero.\")"
      ],
      "metadata": {
        "colab": {
          "base_uri": "https://localhost:8080/"
        },
        "id": "EDboiLYtjDVk",
        "outputId": "c5b7339b-9614-4cc8-dab0-a8f40cb04243"
      },
      "execution_count": null,
      "outputs": [
        {
          "output_type": "stream",
          "name": "stdout",
          "text": [
            "Both x and y are positive.\n",
            "At least one of x or y is positive.\n",
            "x is not zero.\n"
          ]
        }
      ]
    },
    {
      "cell_type": "code",
      "source": [
        "#9. Write a Python program to convert user input from string to integer, float and boolean types\n",
        "\n",
        "num= input(\"Enter a number:\")\n",
        "num1= int(num)\n",
        "num2= float(num)\n",
        "num3= bool(num)\n",
        "\n",
        "print(type(num))\n",
        "print(type(num1))\n",
        "print(type(num2))\n",
        "print(type(num3))\n",
        "\n"
      ],
      "metadata": {
        "colab": {
          "base_uri": "https://localhost:8080/"
        },
        "id": "3UjYHeBEjDgB",
        "outputId": "7a38a15d-f6c1-4265-b1ed-52a9ecc9421e"
      },
      "execution_count": null,
      "outputs": [
        {
          "output_type": "stream",
          "name": "stdout",
          "text": [
            "Enter a number:4\n",
            "<class 'str'>\n",
            "<class 'int'>\n",
            "<class 'float'>\n",
            "<class 'bool'>\n"
          ]
        }
      ]
    },
    {
      "cell_type": "code",
      "source": [
        "#10. Write code to demonstrate type casting with list elements.\n",
        "\n",
        "# List with mixed data types\n",
        "my_list = [1, 2, 3, \"Sam\"]\n",
        "\n",
        "# Print type of the first element before type casting\n",
        "print(\"Type before casting:\", type(my_list[0]))\n",
        "print(\"Type before casting:\", type(my_list[1]))\n",
        "print(\"Type before casting:\", type(my_list[2]))\n",
        "print(\"Type before casting:\", type(my_list[3]))\n",
        "\n",
        "# Convert the first element to a string\n",
        "my_list[0] = str(my_list[0])\n",
        "my_list[1] = float(my_list[1])\n",
        "my_list[2] = bool(my_list[2])\n",
        "\n",
        "# Print the modified list\n",
        "print(\"Modified list:\", my_list)\n",
        "\n",
        "# Print type of the first element after type casting\n",
        "print(\"Type after casting:\", type(my_list[0]))\n",
        "print(\"Type after casting:\", type(my_list[1]))\n",
        "print(\"Type after casting:\", type(my_list[2]))\n",
        "print(\"Type after casting:\", type(my_list[3]))"
      ],
      "metadata": {
        "colab": {
          "base_uri": "https://localhost:8080/"
        },
        "id": "aT3SPYzFjDpP",
        "outputId": "318bc415-749c-4021-9732-1d620840ec35"
      },
      "execution_count": null,
      "outputs": [
        {
          "output_type": "stream",
          "name": "stdout",
          "text": [
            "Type before casting: <class 'int'>\n",
            "Type before casting: <class 'int'>\n",
            "Type before casting: <class 'int'>\n",
            "Type before casting: <class 'str'>\n",
            "Modified list: ['1', 2.0, True, 'Sam']\n",
            "Type after casting: <class 'str'>\n",
            "Type after casting: <class 'float'>\n",
            "Type after casting: <class 'bool'>\n",
            "Type after casting: <class 'str'>\n"
          ]
        }
      ]
    },
    {
      "cell_type": "code",
      "source": [
        "#11. Write a program that checks if a number is positive, negative, or zero.\n",
        "num= (int(input(\"Enter a number: \")))\n",
        "if num < 0:\n",
        "  print(\"Given number is negative\")\n",
        "elif num == 0:\n",
        "  print(\"Given number is equal to Zero\")\n",
        "elif num > 0:\n",
        "  print(\"Given number is positive\")"
      ],
      "metadata": {
        "colab": {
          "base_uri": "https://localhost:8080/"
        },
        "id": "T_Lc-RDjjDzO",
        "outputId": "b59d437a-1fe1-4db7-8ecb-5fa843451d7e"
      },
      "execution_count": null,
      "outputs": [
        {
          "output_type": "stream",
          "name": "stdout",
          "text": [
            "Enter a number: -10\n",
            "Given number is negative\n"
          ]
        }
      ]
    },
    {
      "cell_type": "code",
      "source": [
        "#12. Write a for loop to print numbers from 1 to 10.\n",
        "for i in range(1,11):\n",
        "  print(i)"
      ],
      "metadata": {
        "colab": {
          "base_uri": "https://localhost:8080/"
        },
        "id": "t8DRM38AjD8L",
        "outputId": "f07227a2-e98e-4b91-de99-31120ab38cbe"
      },
      "execution_count": null,
      "outputs": [
        {
          "output_type": "stream",
          "name": "stdout",
          "text": [
            "1\n",
            "2\n",
            "3\n",
            "4\n",
            "5\n",
            "6\n",
            "7\n",
            "8\n",
            "9\n",
            "10\n"
          ]
        }
      ]
    },
    {
      "cell_type": "code",
      "source": [
        "#13. Write a Python program to find the sum of all even numbers between 1 and 50.\n",
        "total_sum = 0\n",
        "\n",
        "for i in range(1, 51):\n",
        "  if i % 2 == 0:\n",
        "    total_sum += i  # Add the even number to the sum\n",
        "\n",
        "# Print the result\n",
        "print(\"The sum of all even numbers between 1 and 50 is:\", total_sum)"
      ],
      "metadata": {
        "colab": {
          "base_uri": "https://localhost:8080/"
        },
        "id": "6LPJSodijEFi",
        "outputId": "f7722090-321d-4ae0-fc88-b52ceb5f4c74"
      },
      "execution_count": null,
      "outputs": [
        {
          "output_type": "stream",
          "name": "stdout",
          "text": [
            "The sum of all even numbers between 1 and 50 is: 650\n"
          ]
        }
      ]
    },
    {
      "cell_type": "code",
      "source": [
        "#14. Write a prgram to reverse a string using a while loop.\n",
        "# Input string\n",
        "string = \"sam\"\n",
        "\n",
        "# Initialize variables\n",
        "reversed_string = \"\"\n",
        "index = len(string) - 1  # Start from the last character\n",
        "\n",
        "# Use while loop to reverse the string\n",
        "while index >= 0:\n",
        "    reversed_string += string[index]  # Append the character to the reversed string\n",
        "    index -= 1  # Move to the previous character\n",
        "\n",
        "# Print the reversed string\n",
        "print(\"Reversed string:\", reversed_string)\n"
      ],
      "metadata": {
        "colab": {
          "base_uri": "https://localhost:8080/"
        },
        "id": "Im9ukHKgjEN9",
        "outputId": "cfbb96ff-8e50-4a4f-8e2d-7bb7f97430d9"
      },
      "execution_count": null,
      "outputs": [
        {
          "output_type": "stream",
          "name": "stdout",
          "text": [
            "Reversed string: mas\n"
          ]
        }
      ]
    },
    {
      "cell_type": "code",
      "source": [
        "#15. Write a Python program to calculate the factorial of a number provided by the user using a while loop.\n",
        "\n",
        "# Get input from the user\n",
        "num = int(input(\"Enter a number to calculate its factorial: \"))\n",
        "\n",
        "# Initialize variables\n",
        "factorial = 1\n",
        "i = num\n",
        "\n",
        "# Use a while loop to calculate the factorial\n",
        "while i > 0:\n",
        "    factorial *= i  # Multiply the current value of i to factorial\n",
        "    i -= 1  # Decrease i by 1\n",
        "\n",
        "# Print the result\n",
        "print(f\"The factorial of {num} is: {factorial}\")\n",
        "\n"
      ],
      "metadata": {
        "id": "uCkPkOWcjEYu",
        "colab": {
          "base_uri": "https://localhost:8080/"
        },
        "outputId": "3ddabd6e-233e-43b3-93e9-9824eaf1a9e3"
      },
      "execution_count": null,
      "outputs": [
        {
          "output_type": "stream",
          "name": "stdout",
          "text": [
            "Enter a number to calculate its factorial: 5\n",
            "The factorial of 5 is: 120\n"
          ]
        }
      ]
    }
  ]
}